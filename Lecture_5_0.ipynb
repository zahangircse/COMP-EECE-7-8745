{
 "cells": [
  {
   "cell_type": "markdown",
   "metadata": {},
   "source": [
    "### Linear Regression\n",
    "\n",
    "Linear Regression is a supervised learning algorithm that models the relationship between a scalar dependent variable y and one or more explanatory variables (or independent variable) denoted X."
   ]
  },
  {
   "cell_type": "code",
   "execution_count": 1,
   "metadata": {},
   "outputs": [],
   "source": [
    "%matplotlib inline\n",
    "import numpy as np\n",
    "import matplotlib.pyplot as plt\n",
    "import seaborn; \n",
    "from sklearn.linear_model import LinearRegression\n",
    "import pylab as pl\n",
    "\n",
    "seaborn.set()"
   ]
  },
  {
   "cell_type": "markdown",
   "metadata": {},
   "source": [
    "### Generate some random data and display.."
   ]
  },
  {
   "cell_type": "code",
   "execution_count": 7,
   "metadata": {},
   "outputs": [
    {
     "name": "stdout",
     "output_type": "stream",
     "text": [
      "The shape of input x  is :  (20, 1)\n",
      "The shape of output y is :  (20,)\n"
     ]
    }
   ],
   "source": [
    "# Create some simple data\n",
    "import numpy as np\n",
    "np.random.seed(0)\n",
    "X = np.random.random(size=(20, 1))\n",
    "y = 3 * X.squeeze() + 2 + np.random.randn(20)\n",
    "\n",
    "print('The shape of input x  is : ', np.array(X).shape)\n",
    "print('The shape of output y is : ', np.array(y).shape)"
   ]
  },
  {
   "cell_type": "code",
   "execution_count": 9,
   "metadata": {},
   "outputs": [
    {
     "name": "stdout",
     "output_type": "stream",
     "text": [
      "X values : [[0.5488135 ]\n",
      " [0.71518937]\n",
      " [0.60276338]\n",
      " [0.54488318]\n",
      " [0.4236548 ]\n",
      " [0.64589411]\n",
      " [0.43758721]\n",
      " [0.891773  ]\n",
      " [0.96366276]\n",
      " [0.38344152]\n",
      " [0.79172504]\n",
      " [0.52889492]\n",
      " [0.56804456]\n",
      " [0.92559664]\n",
      " [0.07103606]\n",
      " [0.0871293 ]\n",
      " [0.0202184 ]\n",
      " [0.83261985]\n",
      " [0.77815675]\n",
      " [0.87001215]]\n"
     ]
    }
   ],
   "source": [
    "print('X values :', X)"
   ]
  },
  {
   "cell_type": "code",
   "execution_count": 10,
   "metadata": {},
   "outputs": [
    {
     "name": "stdout",
     "output_type": "stream",
     "text": [
      "y values : [5.14051958 3.94040984 4.12135783 2.78055381 0.71797458 4.59130093\n",
      " 4.17719783 3.93315398 7.16074291 1.69595888 4.42093363 3.39950091\n",
      " 5.2369129  6.24614868 2.3680556  2.63955042 1.17286944 2.51706307\n",
      " 3.9865581  4.76638541]\n"
     ]
    }
   ],
   "source": [
    "print('y values :', y)"
   ]
  },
  {
   "cell_type": "code",
   "execution_count": 24,
   "metadata": {},
   "outputs": [
    {
     "data": {
      "text/plain": [
       "Text(0, 0.5, 'y')"
      ]
     },
     "execution_count": 24,
     "metadata": {},
     "output_type": "execute_result"
    },
    {
     "data": {
      "image/png": "[encoded data removed]",
      "text/plain": [
       "<Figure size 432x288 with 1 Axes>"
      ]
     },
     "metadata": {},
     "output_type": "display_data"
    }
   ],
   "source": [
    "plt.plot(X.squeeze(), y, 'x');\n",
    "plt.xlabel('X')\n",
    "plt.ylabel('y')"
   ]
  },
  {
   "cell_type": "markdown",
   "metadata": {},
   "source": [
    "### Fit linear regression model with the given samples..."
   ]
  },
  {
   "cell_type": "code",
   "execution_count": 14,
   "metadata": {},
   "outputs": [
    {
     "data": {
      "text/plain": [
       "LinearRegression()"
      ]
     },
     "execution_count": 14,
     "metadata": {},
     "output_type": "execute_result"
    }
   ],
   "source": [
    "model = LinearRegression()\n",
    "model.fit(X, y)"
   ]
  },
  {
   "cell_type": "markdown",
   "metadata": {},
   "source": [
    "### Plot the data and the model prediction"
   ]
  },
  {
   "cell_type": "code",
   "execution_count": 18,
   "metadata": {},
   "outputs": [
    {
     "name": "stdout",
     "output_type": "stream",
     "text": [
      "[[0.        ]\n",
      " [0.01010101]\n",
      " [0.02020202]\n",
      " [0.03030303]\n",
      " [0.04040404]\n",
      " [0.05050505]\n",
      " [0.06060606]\n",
      " [0.07070707]\n",
      " [0.08080808]\n",
      " [0.09090909]\n",
      " [0.1010101 ]\n",
      " [0.11111111]\n",
      " [0.12121212]\n",
      " [0.13131313]\n",
      " [0.14141414]\n",
      " [0.15151515]\n",
      " [0.16161616]\n",
      " [0.17171717]\n",
      " [0.18181818]\n",
      " [0.19191919]\n",
      " [0.2020202 ]\n",
      " [0.21212121]\n",
      " [0.22222222]\n",
      " [0.23232323]\n",
      " [0.24242424]\n",
      " [0.25252525]\n",
      " [0.26262626]\n",
      " [0.27272727]\n",
      " [0.28282828]\n",
      " [0.29292929]\n",
      " [0.3030303 ]\n",
      " [0.31313131]\n",
      " [0.32323232]\n",
      " [0.33333333]\n",
      " [0.34343434]\n",
      " [0.35353535]\n",
      " [0.36363636]\n",
      " [0.37373737]\n",
      " [0.38383838]\n",
      " [0.39393939]\n",
      " [0.4040404 ]\n",
      " [0.41414141]\n",
      " [0.42424242]\n",
      " [0.43434343]\n",
      " [0.44444444]\n",
      " [0.45454545]\n",
      " [0.46464646]\n",
      " [0.47474747]\n",
      " [0.48484848]\n",
      " [0.49494949]\n",
      " [0.50505051]\n",
      " [0.51515152]\n",
      " [0.52525253]\n",
      " [0.53535354]\n",
      " [0.54545455]\n",
      " [0.55555556]\n",
      " [0.56565657]\n",
      " [0.57575758]\n",
      " [0.58585859]\n",
      " [0.5959596 ]\n",
      " [0.60606061]\n",
      " [0.61616162]\n",
      " [0.62626263]\n",
      " [0.63636364]\n",
      " [0.64646465]\n",
      " [0.65656566]\n",
      " [0.66666667]\n",
      " [0.67676768]\n",
      " [0.68686869]\n",
      " [0.6969697 ]\n",
      " [0.70707071]\n",
      " [0.71717172]\n",
      " [0.72727273]\n",
      " [0.73737374]\n",
      " [0.74747475]\n",
      " [0.75757576]\n",
      " [0.76767677]\n",
      " [0.77777778]\n",
      " [0.78787879]\n",
      " [0.7979798 ]\n",
      " [0.80808081]\n",
      " [0.81818182]\n",
      " [0.82828283]\n",
      " [0.83838384]\n",
      " [0.84848485]\n",
      " [0.85858586]\n",
      " [0.86868687]\n",
      " [0.87878788]\n",
      " [0.88888889]\n",
      " [0.8989899 ]\n",
      " [0.90909091]\n",
      " [0.91919192]\n",
      " [0.92929293]\n",
      " [0.93939394]\n",
      " [0.94949495]\n",
      " [0.95959596]\n",
      " [0.96969697]\n",
      " [0.97979798]\n",
      " [0.98989899]\n",
      " [1.        ]]\n"
     ]
    }
   ],
   "source": [
    "X_fit = np.linspace(0, 1, 100)[:, np.newaxis]\n",
    "print(X_fit)"
   ]
  },
  {
   "cell_type": "code",
   "execution_count": 22,
   "metadata": {},
   "outputs": [
    {
     "name": "stdout",
     "output_type": "stream",
     "text": [
      "Y-prediction : [1.46229079 1.50203737 1.54178395 1.58153052 1.6212771  1.66102368\n",
      " 1.70077026 1.74051684 1.78026342 1.82000999 1.85975657 1.89950315\n",
      " 1.93924973 1.97899631 2.01874289 2.05848947 2.09823604 2.13798262\n",
      " 2.1777292  2.21747578 2.25722236 2.29696894 2.33671551 2.37646209\n",
      " 2.41620867 2.45595525 2.49570183 2.53544841 2.57519498 2.61494156\n",
      " 2.65468814 2.69443472 2.7341813  2.77392788 2.81367445 2.85342103\n",
      " 2.89316761 2.93291419 2.97266077 3.01240735 3.05215393 3.0919005\n",
      " 3.13164708 3.17139366 3.21114024 3.25088682 3.2906334  3.33037997\n",
      " 3.37012655 3.40987313 3.44961971 3.48936629 3.52911287 3.56885944\n",
      " 3.60860602 3.6483526  3.68809918 3.72784576 3.76759234 3.80733891\n",
      " 3.84708549 3.88683207 3.92657865 3.96632523 4.00607181 4.04581839\n",
      " 4.08556496 4.12531154 4.16505812 4.2048047  4.24455128 4.28429786\n",
      " 4.32404443 4.36379101 4.40353759 4.44328417 4.48303075 4.52277733\n",
      " 4.5625239  4.60227048 4.64201706 4.68176364 4.72151022 4.7612568\n",
      " 4.80100338 4.84074995 4.88049653 4.92024311 4.95998969 4.99973627\n",
      " 5.03948285 5.07922942 5.118976   5.15872258 5.19846916 5.23821574\n",
      " 5.27796232 5.31770889 5.35745547 5.39720205]\n"
     ]
    }
   ],
   "source": [
    "X_fit = np.linspace(0, 1, 100)[:, np.newaxis]\n",
    "y_fit = model.predict(X_fit)\n",
    "\n",
    "print('Y-prediction :', y_fit)"
   ]
  },
  {
   "cell_type": "code",
   "execution_count": 23,
   "metadata": {},
   "outputs": [
    {
     "data": {
      "image/png": "[encoded data removed]",
      "text/plain": [
       "<Figure size 432x288 with 1 Axes>"
      ]
     },
     "metadata": {},
     "output_type": "display_data"
    }
   ],
   "source": [
    "plt.plot(X.squeeze(), y, 'x')\n",
    "plt.plot(X_fit.squeeze(), y_fit);"
   ]
  },
  {
   "cell_type": "code",
   "execution_count": null,
   "metadata": {},
   "outputs": [],
   "source": []
  }
 ],
 "metadata": {
  "kernelspec": {
   "display_name": "Python 3",
   "language": "python",
   "name": "python3"
  },
  "language_info": {
   "codemirror_mode": {
    "name": "ipython",
    "version": 3
   },
   "file_extension": ".py",
   "mimetype": "text/x-python",
   "name": "python",
   "nbconvert_exporter": "python",
   "pygments_lexer": "ipython3",
   "version": "3.8.3"
  }
 },
 "nbformat": 4,
 "nbformat_minor": 4
}
